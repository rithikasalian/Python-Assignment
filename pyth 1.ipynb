{
 "cells": [
  {
   "cell_type": "code",
   "execution_count": 6,
   "id": "587a8985",
   "metadata": {},
   "outputs": [
    {
     "name": "stdout",
     "output_type": "stream",
     "text": [
      "OLD IS GOLD\n",
      "length of the string is:  11\n"
     ]
    }
   ],
   "source": [
    "# Write python program to calculate the length of the string\n",
    "line=\"OLD IS GOLD\"\n",
    "print(line)\n",
    "l1=len(line)\n",
    "print(\"length of the string is: \", l1)"
   ]
  },
  {
   "cell_type": "code",
   "execution_count": 7,
   "id": "4e4f6dbd",
   "metadata": {},
   "outputs": [
    {
     "data": {
      "text/plain": [
       "15.0"
      ]
     },
     "execution_count": 7,
     "metadata": {},
     "output_type": "execute_result"
    }
   ],
   "source": [
    "# Python programe to calculate the square.\n",
    "import math\n",
    "math.sqrt(225)"
   ]
  },
  {
   "cell_type": "code",
   "execution_count": 8,
   "id": "893051b4",
   "metadata": {},
   "outputs": [
    {
     "name": "stdout",
     "output_type": "stream",
     "text": [
      "fahrenheit is:  68.0\n"
     ]
    }
   ],
   "source": [
    "#Write a python programe to convert temperature in celcius to temperature in fahrenheit.\n",
    "celcius=20\n",
    "fahrenheit=(celcius * 1.8) +32\n",
    "print(\"fahrenheit is: \" , fahrenheit)"
   ]
  },
  {
   "cell_type": "code",
   "execution_count": 9,
   "id": "39163d5f",
   "metadata": {},
   "outputs": [
    {
     "name": "stdout",
     "output_type": "stream",
     "text": [
      "10 is type of <class 'int'>\n",
      "4.5 is type of <class 'float'>\n",
      "(2+6j) is type of <class 'complex'>\n"
     ]
    }
   ],
   "source": [
    "# Write the data type needed for given data.(10,4.5,2+6j)\n",
    "num1=10\n",
    "print(num1, \"is type of\" ,type(num1))\n",
    "\n",
    "num2=4.5\n",
    "print(num2, \"is type of\" ,type(num2))\n",
    "\n",
    "num3=2+6j\n",
    "print(num3, \"is type of\" ,type(num3))"
   ]
  }
 ],
 "metadata": {
  "kernelspec": {
   "display_name": "Python 3 (ipykernel)",
   "language": "python",
   "name": "python3"
  },
  "language_info": {
   "codemirror_mode": {
    "name": "ipython",
    "version": 3
   },
   "file_extension": ".py",
   "mimetype": "text/x-python",
   "name": "python",
   "nbconvert_exporter": "python",
   "pygments_lexer": "ipython3",
   "version": "3.9.13"
  }
 },
 "nbformat": 4,
 "nbformat_minor": 5
}
